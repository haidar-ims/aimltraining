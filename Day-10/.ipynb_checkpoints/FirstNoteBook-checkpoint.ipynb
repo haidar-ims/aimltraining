{
 "cells": [
  {
   "cell_type": "markdown",
   "id": "32ac1dc4-eae6-4a89-806d-26c7271c85d7",
   "metadata": {},
   "source": [
    "# First Note Book\n",
    "## Steps to Print a Single Line\n",
    "    We will create Code Cell\n",
    "    We will write print commmand\n",
    "    We will run the cell"
   ]
  },
  {
   "cell_type": "code",
   "execution_count": 2,
   "id": "878cd202-ebe4-4a17-817c-559ebdf4300c",
   "metadata": {},
   "outputs": [
    {
     "name": "stdout",
     "output_type": "stream",
     "text": [
      "Welcome to Python Note Book\n"
     ]
    }
   ],
   "source": [
    "print('Welcome to Python Note Book')"
   ]
  },
  {
   "cell_type": "markdown",
   "id": "5d0530f9-0fa2-43d7-b79a-4ce7c2a73717",
   "metadata": {},
   "source": [
    "## For loop example"
   ]
  },
  {
   "cell_type": "code",
   "execution_count": 3,
   "id": "7bf69318-2eb5-4a55-91ce-66aafcae3db5",
   "metadata": {},
   "outputs": [
    {
     "name": "stdout",
     "output_type": "stream",
     "text": [
      "1\t2\t3\t4\t5\t6\t7\t8\t9\t10\t11\t12\t13\t14\t15\t16\t17\t18\t19\t20\t21\t22\t23\t24\t25\t26\t27\t28\t29\t30\t31\t32\t33\t34\t35\t36\t37\t38\t39\t40\t41\t42\t43\t44\t45\t46\t47\t48\t49\t50\t51\t52\t53\t54\t55\t56\t57\t58\t59\t60\t61\t62\t63\t64\t65\t66\t67\t68\t69\t70\t71\t72\t73\t74\t75\t76\t77\t78\t79\t80\t81\t82\t83\t84\t85\t86\t87\t88\t89\t90\t91\t92\t93\t94\t95\t96\t97\t98\t99\t100\t"
     ]
    }
   ],
   "source": [
    "for num in range (1,101):\n",
    "    print(num,end=\"\\t\")"
   ]
  },
  {
   "cell_type": "code",
   "execution_count": 10,
   "id": "52cd7f2d-bbd4-4c29-ae50-a8d2e432e0cd",
   "metadata": {},
   "outputs": [],
   "source": [
    "players=('Messi', 'Ronaldo', 'Ronaldinho', 'Sudin', 'Kadir','Zidane')"
   ]
  },
  {
   "cell_type": "code",
   "execution_count": 11,
   "id": "541c7af1-8841-4798-b3c2-705f5bf999bd",
   "metadata": {},
   "outputs": [
    {
     "name": "stdout",
     "output_type": "stream",
     "text": [
      "Messi\n",
      "Ronaldo\n",
      "Ronaldinho\n",
      "Sudin\n",
      "Kadir\n",
      "Zidane\n"
     ]
    }
   ],
   "source": [
    "for player in players:\n",
    "    print(player)"
   ]
  },
  {
   "cell_type": "code",
   "execution_count": null,
   "id": "47953ce7-0918-4299-90be-a9970e2ec55c",
   "metadata": {},
   "outputs": [],
   "source": [
    "print('Try out the keys for quick action')"
   ]
  },
  {
   "cell_type": "code",
   "execution_count": null,
   "id": "e549e151-e5aa-4dc5-affb-b0eae9c738fd",
   "metadata": {},
   "outputs": [],
   "source": []
  }
 ],
 "metadata": {
  "kernelspec": {
   "display_name": "Python [conda env:base] *",
   "language": "python",
   "name": "conda-base-py"
  },
  "language_info": {
   "codemirror_mode": {
    "name": "ipython",
    "version": 3
   },
   "file_extension": ".py",
   "mimetype": "text/x-python",
   "name": "python",
   "nbconvert_exporter": "python",
   "pygments_lexer": "ipython3",
   "version": "3.13.5"
  }
 },
 "nbformat": 4,
 "nbformat_minor": 5
}
